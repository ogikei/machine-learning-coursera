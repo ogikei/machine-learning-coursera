{
 "cells": [
  {
   "cell_type": "markdown",
   "metadata": {
    "collapsed": true
   },
   "source": [
    "# Programming Exercise 2 - Logistic Regression\n",
    "- [Logistic regression]()\n",
    "- [Regularized logistic regression]()"
   ]
  },
  {
   "cell_type": "code",
   "execution_count": 13,
   "metadata": {},
   "outputs": [],
   "source": [
    "import os\n",
    "\n",
    "import pandas as pd\n",
    "import numpy as np\n",
    "import matplotlib as mpl\n",
    "import matplotlib.pyplot as plt\n",
    "\n",
    "from scipy.optimize import minimize\n",
    "from sklearn.preprocessing import PolynomialFeatures\n",
    "\n",
    "pd.set_option('display.notebook_repr_html', False)\n",
    "pd.set_option('display.max_columns', None)\n",
    "pd.set_option('display.max_rows', 150)\n",
    "pd.set_option('display.max_seq_items', None)\n",
    "\n",
    "%matplotlib inline\n",
    "\n",
    "import seaborn as sns\n",
    "sns.set_context('notebook')\n",
    "sns.set_style('white')"
   ]
  },
  {
   "cell_type": "code",
   "execution_count": 38,
   "metadata": {},
   "outputs": [],
   "source": [
    "def loadData(file, delimiter):\n",
    "    data = np.loadtxt(file, delimiter = delimiter)\n",
    "    print('Dimensions: ', data.shape)\n",
    "    print(data[1:6, :])\n",
    "    return (data)"
   ]
  },
  {
   "cell_type": "code",
   "execution_count": 39,
   "metadata": {},
   "outputs": [],
   "source": [
    "def plotData(data, label_x, label_y, label_pos, label_neg, axes = None):\n",
    "    # Get indexes for class 0 and class 1\n",
    "    pos = data[:, 2] == 1\n",
    "    neg = data[:, 2] == 0\n",
    "    print(pos)\n",
    "    print(neg)\n",
    "    print(data[pos])\n",
    "    print(data[neg])\n",
    "\n",
    "    # If no specific axes object has been passed, get the current axes.\n",
    "    if axes == None:\n",
    "        axes = plt.gca()\n",
    "    axes.scatter(data[pos][:, 0], data[pos][:, 1], marker = '+', c = 'k', s = 60, linewidths = 2, label = label_pos)\n",
    "    axes.scatter(data[neg][:, 0], data[neg][:, 1], c = 'y', s = 60, label = label_neg)\n",
    "    axes.set_xlabel(label_x)\n",
    "    axes.set_ylabel(label_y)\n",
    "    axes.legend(frameon= True, fancybox = True)"
   ]
  },
  {
   "cell_type": "markdown",
   "metadata": {},
   "source": [
    "## Logistic regression"
   ]
  },
  {
   "cell_type": "code",
   "execution_count": null,
   "metadata": {},
   "outputs": [],
   "source": [
    "cwd = os.getcwd()\n",
    "path = cwd + '/notebooks/data/ex2data1.txt'\n",
    "data = loadData(path, ',')\n"
   ]
  },
  {
   "cell_type": "code",
   "execution_count": 43,
   "metadata": {},
   "outputs": [],
   "source": [
    "X = np.c_[np.ones((data.shape[0], 1)), data[:, 0:2]]\n",
    "y = np.c_[data[:, 2]]"
   ]
  },
  {
   "cell_type": "code",
   "execution_count": 44,
   "metadata": {},
   "outputs": [
    {
     "name": "stdout",
     "output_type": "stream",
     "text": [
      "[False False False  True  True False  True  True  True  True False False\n  True  True False  True  True False  True  True False  True False False\n  True  True  True False False False  True  True False  True False False\n False  True False False  True False  True False False False  True  True\n  True  True  True  True  True False False False  True False  True  True\n  True False False False False False  True False  True  True False  True\n  True  True  True  True  True  True False False  True  True  True  True\n  True  True False  True  True False  True  True False  True  True  True\n  True  True  True  True]\n[ True  True  True False False  True False False False False  True  True\n False False  True False False  True False False  True False  True  True\n False False False  True  True  True False False  True False  True  True\n  True False  True  True False  True False  True  True  True False False\n False False False False False  True  True  True False  True False False\n False  True  True  True  True  True False  True False False  True False\n False False False False False False  True  True False False False False\n False False  True False False  True False False  True False False False\n False False False False]\n[[60.18259939 86.3085521   1.        ]\n [79.03273605 75.34437644  1.        ]\n [61.10666454 96.51142588  1.        ]\n [75.02474557 46.55401354  1.        ]\n [76.0987867  87.42056972  1.        ]\n [84.43281996 43.53339331  1.        ]\n [82.30705337 76.4819633   1.        ]\n [69.36458876 97.71869196  1.        ]\n [53.97105215 89.20735014  1.        ]\n [69.07014406 52.74046973  1.        ]\n [70.66150955 92.92713789  1.        ]\n [76.97878373 47.57596365  1.        ]\n [89.67677575 65.79936593  1.        ]\n [77.92409145 68.97235999  1.        ]\n [62.27101367 69.95445795  1.        ]\n [80.19018075 44.82162893  1.        ]\n [61.37928945 72.80788731  1.        ]\n [85.40451939 57.05198398  1.        ]\n [52.04540477 69.43286012  1.        ]\n [64.17698887 80.90806059  1.        ]\n [83.90239366 56.30804622  1.        ]\n [94.44336777 65.56892161  1.        ]\n [77.19303493 70.4582      1.        ]\n [97.77159928 86.72782233  1.        ]\n [62.0730638  96.76882412  1.        ]\n [91.5649745  88.69629255  1.        ]\n [79.94481794 74.16311935  1.        ]\n [99.27252693 60.999031    1.        ]\n [90.54671411 43.39060181  1.        ]\n [97.64563396 68.86157272  1.        ]\n [74.24869137 69.82457123  1.        ]\n [71.79646206 78.45356225  1.        ]\n [75.39561147 85.75993667  1.        ]\n [40.45755098 97.53518549  1.        ]\n [80.27957401 92.11606081  1.        ]\n [66.74671857 60.99139403  1.        ]\n [64.03932042 78.03168802  1.        ]\n [72.34649423 96.22759297  1.        ]\n [60.45788574 73.0949981   1.        ]\n [58.84095622 75.85844831  1.        ]\n [99.8278578  72.36925193  1.        ]\n [47.26426911 88.475865    1.        ]\n [50.4581598  75.80985953  1.        ]\n [88.91389642 69.8037889   1.        ]\n [94.83450672 45.6943068   1.        ]\n [67.31925747 66.58935318  1.        ]\n [57.23870632 59.51428198  1.        ]\n [80.366756   90.9601479   1.        ]\n [68.46852179 85.5943071   1.        ]\n [75.47770201 90.424539    1.        ]\n [78.63542435 96.64742717  1.        ]\n [94.09433113 77.15910509  1.        ]\n [90.44855097 87.50879176  1.        ]\n [74.49269242 84.84513685  1.        ]\n [89.84580671 45.35828361  1.        ]\n [83.48916274 48.3802858   1.        ]\n [42.26170081 87.10385094  1.        ]\n [99.31500881 68.77540947  1.        ]\n [55.34001756 64.93193801  1.        ]\n [74.775893   89.5298129   1.        ]]\n[[34.62365962 78.02469282  0.        ]\n [30.28671077 43.89499752  0.        ]\n [35.84740877 72.90219803  0.        ]\n [45.08327748 56.31637178  0.        ]\n [95.86155507 38.22527806  0.        ]\n [75.01365839 30.60326323  0.        ]\n [39.53833914 76.03681085  0.        ]\n [67.94685548 46.67857411  0.        ]\n [67.37202755 42.83843832  0.        ]\n [50.53478829 48.85581153  0.        ]\n [34.21206098 44.2095286   0.        ]\n [93.1143888  38.80067034  0.        ]\n [61.83020602 50.25610789  0.        ]\n [38.7858038  64.99568096  0.        ]\n [52.10797973 63.12762377  0.        ]\n [40.23689374 71.16774802  0.        ]\n [54.63510555 52.21388588  0.        ]\n [33.91550011 98.86943574  0.        ]\n [74.78925296 41.57341523  0.        ]\n [34.18364003 75.23772034  0.        ]\n [51.54772027 46.85629026  0.        ]\n [82.36875376 40.61825516  0.        ]\n [51.04775177 45.82270146  0.        ]\n [62.22267576 52.06099195  0.        ]\n [34.52451385 60.39634246  0.        ]\n [50.28649612 49.80453881  0.        ]\n [49.58667722 59.80895099  0.        ]\n [32.57720017 95.59854761  0.        ]\n [35.28611282 47.02051395  0.        ]\n [56.2538175  39.26147251  0.        ]\n [30.05882245 49.59297387  0.        ]\n [44.66826172 66.45008615  0.        ]\n [66.56089447 41.09209808  0.        ]\n [49.07256322 51.88321182  0.        ]\n [32.72283304 43.30717306  0.        ]\n [60.45555629 42.50840944  0.        ]\n [82.22666158 42.71987854  0.        ]\n [42.07545454 78.844786    0.        ]\n [52.34800399 60.76950526  0.        ]\n [55.48216114 35.57070347  0.        ]]\n"
     ]
    },
    {
     "data": {
      "image/png": "[encoded data removed]",
      "text/plain": [
       "<Figure size 432x288 with 1 Axes>"
      ]
     },
     "metadata": {},
     "output_type": "display_data"
    }
   ],
   "source": [
    "plotData(data, 'Exam 1 score', 'Exam 2 score', 'Admitted', 'Not admitted')"
   ]
  },
  {
   "cell_type": "markdown",
   "metadata": {},
   "source": [
    "### Logistic regression hypothesis\n",
    "### $$h_{\\theta}(x) = g(\\theta^{T}x)$$\n",
    "### $$g(z)=\\frac{1}{1+e^{−z}}$$"
   ]
  },
  {
   "cell_type": "code",
   "execution_count": 46,
   "metadata": {},
   "outputs": [],
   "source": [
    "def sigmoid(z):\n",
    "    return(1 / (1 + np.exp(-z)))"
   ]
  },
  {
   "cell_type": "code",
   "execution_count": 47,
   "metadata": {},
   "outputs": [],
   "source": []
  },
  {
   "cell_type": "code",
   "execution_count": null,
   "metadata": {},
   "outputs": [],
   "source": []
  }
 ],
 "metadata": {
  "kernelspec": {
   "display_name": "Python 2",
   "language": "python",
   "name": "python2"
  },
  "language_info": {
   "codemirror_mode": {
    "name": "ipython",
    "version": 2
   },
   "file_extension": ".py",
   "mimetype": "text/x-python",
   "name": "python",
   "nbconvert_exporter": "python",
   "pygments_lexer": "ipython2",
   "version": "2.7.6"
  }
 },
 "nbformat": 4,
 "nbformat_minor": 0
}
